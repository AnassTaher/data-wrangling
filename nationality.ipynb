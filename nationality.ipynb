{
 "cells": [
  {
   "cell_type": "code",
   "execution_count": 77,
   "metadata": {},
   "outputs": [],
   "source": [
    "import pandas as pd\n",
    "import numpy as np\n",
    "import matplotlib.pyplot as plt"
   ]
  },
  {
   "cell_type": "code",
   "execution_count": 78,
   "metadata": {},
   "outputs": [],
   "source": [
    "# Load the data\n",
    "atheletes_csv = pd.read_csv('athlete_events.csv')\n",
    "regions_csv = pd.read_csv('noc_regions.csv')"
   ]
  },
  {
   "cell_type": "code",
   "execution_count": 79,
   "metadata": {},
   "outputs": [],
   "source": [
    "# Clean the data\n",
    "athletes_columns_to_be_cleaned = ['Age', 'Team']\n",
    "atheletes_csv = atheletes_csv.dropna(axis=0, subset=athletes_columns_to_be_cleaned)\n",
    "\n",
    "regions_columns_to_be_cleaned = ['continent']\n",
    "regions_csv = regions_csv.dropna(axis=0, subset=regions_columns_to_be_cleaned)\n",
    "# We cleaned the data so every country is part of the 5 continents that participate in the olympic games\n",
    "# Europe, Asia, Africa, America, Oceania\n"
   ]
  },
  {
   "cell_type": "code",
   "execution_count": 80,
   "metadata": {},
   "outputs": [
    {
     "name": "stdout",
     "output_type": "stream",
     "text": [
      "Index(['ID', 'Name', 'Sex', 'Age', 'Height', 'Weight', 'Team', 'NOC', 'Games',\n",
      "       'Year', 'Season', 'City', 'Sport', 'Event', 'Medal'],\n",
      "      dtype='object')\n",
      "Index(['NOC', 'region', 'notes', 'continent'], dtype='object')\n",
      "   NOC       region                 notes continent\n",
      "0  AFG  Afghanistan                   NaN      Asia\n",
      "1  AHO      Curacao  Netherlands Antilles   America\n",
      "2  ALB      Albania                   NaN    Europe\n",
      "3  ALG      Algeria                   NaN    Africa\n",
      "4  AND      Andorra                   NaN    Europe\n",
      "['Asia' 'America' 'Europe' 'Africa' 'Oceania']\n"
     ]
    }
   ],
   "source": [
    "# print the columns\n",
    "print(atheletes_csv.columns)\n",
    "print(regions_csv.columns)\n",
    "\n",
    "# print unique columns of 'NOC'\n",
    "print(regions_csv.head())\n",
    "\n",
    "print(regions_csv['continent'].unique())\n"
   ]
  }
 ],
 "metadata": {
  "kernelspec": {
   "display_name": "Python 3",
   "language": "python",
   "name": "python3"
  },
  "language_info": {
   "codemirror_mode": {
    "name": "ipython",
    "version": 3
   },
   "file_extension": ".py",
   "mimetype": "text/x-python",
   "name": "python",
   "nbconvert_exporter": "python",
   "pygments_lexer": "ipython3",
   "version": "3.10.12"
  }
 },
 "nbformat": 4,
 "nbformat_minor": 2
}
